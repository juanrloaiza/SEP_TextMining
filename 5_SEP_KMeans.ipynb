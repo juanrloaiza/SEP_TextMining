{
 "cells": [
  {
   "cell_type": "code",
   "execution_count": 1,
   "metadata": {},
   "outputs": [],
   "source": [
    "import os\n",
    "import ast\n",
    "from sklearn.feature_extraction.text import CountVectorizer\n",
    "import pandas as pd\n",
    "import seaborn as sns"
   ]
  },
  {
   "cell_type": "code",
   "execution_count": 2,
   "metadata": {},
   "outputs": [],
   "source": [
    "final_set = []\n",
    "for f in os.listdir('sep_articles_lemmatized/'):\n",
    "    with open('sep_articles_lemmatized/' + f) as text:\n",
    "        final_set.append(ast.literal_eval(text.read()))"
   ]
  },
  {
   "cell_type": "code",
   "execution_count": 3,
   "metadata": {},
   "outputs": [],
   "source": [
    "body = [' '.join(text) for text in final_set]"
   ]
  },
  {
   "cell_type": "markdown",
   "metadata": {},
   "source": [
    "# Using a simple count vectorizer"
   ]
  },
  {
   "cell_type": "code",
   "execution_count": null,
   "metadata": {},
   "outputs": [],
   "source": [
    "vectorizer = CountVectorizer()"
   ]
  },
  {
   "cell_type": "code",
   "execution_count": null,
   "metadata": {},
   "outputs": [],
   "source": [
    "bag_of_words = vectorizer.fit_transform(body)"
   ]
  },
  {
   "cell_type": "code",
   "execution_count": null,
   "metadata": {},
   "outputs": [],
   "source": [
    "bag_of_words.todense()"
   ]
  },
  {
   "cell_type": "code",
   "execution_count": null,
   "metadata": {},
   "outputs": [],
   "source": [
    "from sklearn.decomposition import TruncatedSVD"
   ]
  },
  {
   "cell_type": "code",
   "execution_count": null,
   "metadata": {},
   "outputs": [],
   "source": [
    "svd = TruncatedSVD(n_components=20)\n",
    "lsa = svd.fit_transform(bag_of_words)"
   ]
  },
  {
   "cell_type": "code",
   "execution_count": null,
   "metadata": {},
   "outputs": [],
   "source": [
    "import pandas as pd"
   ]
  },
  {
   "cell_type": "code",
   "execution_count": null,
   "metadata": {},
   "outputs": [],
   "source": [
    "topic_encoded_df = pd.DataFrame(lsa, columns = [\"topic_\" + str(x) for x in xrange(1,21)])\n",
    "topic_encoded_df['body'] = body\n",
    "topic_encoded_df"
   ]
  },
  {
   "cell_type": "code",
   "execution_count": null,
   "metadata": {},
   "outputs": [],
   "source": [
    "dictionary = vectorizer.get_feature_names()\n",
    "encoding_matrix = pd.DataFrame(svd.components_, index=[\"topic_\" + str(x) for x in xrange(1,21)], columns = dictionary).T"
   ]
  },
  {
   "cell_type": "code",
   "execution_count": null,
   "metadata": {},
   "outputs": [],
   "source": [
    "import numpy as np"
   ]
  },
  {
   "cell_type": "code",
   "execution_count": null,
   "metadata": {},
   "outputs": [],
   "source": [
    "for x in xrange(1,21):\n",
    "    string = 'topic_%s' % x\n",
    "    encoding_matrix['abs_' + string] = np.abs(encoding_matrix[string])\n",
    "    \n",
    "encoding_matrix.sort_values('abs_topic_2', ascending=False)"
   ]
  },
  {
   "cell_type": "markdown",
   "metadata": {},
   "source": [
    "# Using K Nearest Neighbors Clustering"
   ]
  },
  {
   "cell_type": "code",
   "execution_count": 3,
   "metadata": {},
   "outputs": [],
   "source": [
    "from sklearn.cluster import KMeans"
   ]
  },
  {
   "cell_type": "code",
   "execution_count": 4,
   "metadata": {},
   "outputs": [],
   "source": [
    "from sklearn.feature_extraction.text import TfidfVectorizer"
   ]
  },
  {
   "cell_type": "markdown",
   "metadata": {},
   "source": [
    "### Feature extraction"
   ]
  },
  {
   "cell_type": "code",
   "execution_count": 5,
   "metadata": {},
   "outputs": [],
   "source": [
    "tfidf_vectorizer = TfidfVectorizer()"
   ]
  },
  {
   "cell_type": "code",
   "execution_count": 6,
   "metadata": {},
   "outputs": [],
   "source": [
    "body = [' '.join(text) for text in final_set[:100]]\n",
    "tf_idf = tfidf_vectorizer.fit_transform(body)"
   ]
  },
  {
   "cell_type": "markdown",
   "metadata": {},
   "source": [
    "### Finding the number of topics\n",
    "Here we loop over a range of models varying in the number of clusters we expect the K Means model to cluster the texts into."
   ]
  },
  {
   "cell_type": "code",
   "execution_count": 40,
   "metadata": {},
   "outputs": [],
   "source": [
    "num_clusters = xrange(10,50)\n",
    "models = [KMeans(n_clusters=x, init='k-means++', max_iter=200, n_init=100).fit(tf_idf) for x in num_clusters]\n",
    "centroids = [k.cluster_centers_ for k in models]  #get all centroids"
   ]
  },
  {
   "cell_type": "markdown",
   "metadata": {},
   "source": [
    "We then plot these results and find the elbow point to find the best number of topics for our sample. Citing from https://towardsdatascience.com/k-means-clustering-algorithm-applications-evaluation-methods-and-drawbacks-aa03e644b48a:\n",
    "\n",
    "> Elbow method gives us an idea on what a good k number of clusters would be based on the sum of squared distance (SSE) between data points and their assigned clusters’ centroids. We pick k at the spot where SSE starts to flatten out and forming an elbow."
   ]
  },
  {
   "cell_type": "code",
   "execution_count": 42,
   "metadata": {},
   "outputs": [
    {
     "data": {
      "text/plain": [
       "<matplotlib.axes._subplots.AxesSubplot at 0x7f1048393f50>"
      ]
     },
     "execution_count": 42,
     "metadata": {},
     "output_type": "execute_result"
    },
    {
     "data": {
      "image/png": "[encoded data removed]",
      "text/plain": [
       "<Figure size 432x288 with 1 Axes>"
      ]
     },
     "metadata": {},
     "output_type": "display_data"
    }
   ],
   "source": [
    "import numpy as np\n",
    "from scipy.spatial.distance import cdist\n",
    "\n",
    "# Find the distance between each point and its assigned centroid\n",
    "D_k = [cdist(tf_idf.toarray(), cent,'euclidean') for cent in centroids]  #euclidean as a distance measure\n",
    "eucldist = [np.min(D,axis=1) for D in D_k]  #find minimum distance\n",
    "\n",
    "# Average within cluster sum of squares\n",
    "avgWithinSM = [sum(d)/tf_idf.shape[0] for d in eucldist]\n",
    "\n",
    "# Make a dataframe for plotting\n",
    "sum_of_squares_df = pd.DataFrame()\n",
    "sum_of_squares_df['Number of clusters'] = num_clusters\n",
    "sum_of_squares_df['Average within cluster SM'] = avgWithinSM\n",
    "\n",
    "# plot elbow\n",
    "sns.pointplot(x = 'Number of clusters', y = 'Average within cluster SM', data = sum_of_squares_df)"
   ]
  },
  {
   "cell_type": "markdown",
   "metadata": {},
   "source": [
    "### Writing a single model"
   ]
  },
  {
   "cell_type": "markdown",
   "metadata": {},
   "source": [
    "Here we build a single model with a fixed number of clusters (ideally the number we found above). "
   ]
  },
  {
   "cell_type": "code",
   "execution_count": 11,
   "metadata": {},
   "outputs": [],
   "source": [
    "num_clusters = 27\n",
    "modelkmeans = KMeans(n_clusters=num_clusters, init='k-means++', max_iter=200, n_init=100).fit(tf_idf)"
   ]
  },
  {
   "cell_type": "code",
   "execution_count": 43,
   "metadata": {},
   "outputs": [],
   "source": [
    "modelkmeans = models[-1]"
   ]
  },
  {
   "cell_type": "code",
   "execution_count": 44,
   "metadata": {},
   "outputs": [],
   "source": [
    "clusters = modelkmeans.labels_"
   ]
  },
  {
   "cell_type": "markdown",
   "metadata": {},
   "source": [
    "We build a DataFrame with each document and then we add the vector containing info on which cluster does each document belong to."
   ]
  },
  {
   "cell_type": "code",
   "execution_count": 45,
   "metadata": {},
   "outputs": [],
   "source": [
    "doc_df = pd.DataFrame()\n",
    "doc_df['Document'] = body\n",
    "doc_df['Clusters'] = clusters"
   ]
  },
  {
   "cell_type": "markdown",
   "metadata": {},
   "source": [
    "We can now count how many documents are in each cluster. Let's get some descriptives."
   ]
  },
  {
   "cell_type": "code",
   "execution_count": 46,
   "metadata": {},
   "outputs": [
    {
     "data": {
      "text/plain": [
       "count    39.000000\n",
       "mean      2.564103\n",
       "std       1.788779\n",
       "min       1.000000\n",
       "25%       1.000000\n",
       "50%       2.000000\n",
       "75%       3.500000\n",
       "max       7.000000\n",
       "Name: Num. of Docs, dtype: float64"
      ]
     },
     "execution_count": 46,
     "metadata": {},
     "output_type": "execute_result"
    }
   ],
   "source": [
    "from collections import Counter\n",
    "clusters_df = pd.DataFrame(Counter(clusters).items(), columns = ['Cluster', 'Num. of Docs'])\n",
    "clusters_df['Num. of Docs'].describe()"
   ]
  },
  {
   "cell_type": "markdown",
   "metadata": {},
   "source": [
    "Now let's see the number of documents per topic in a bar plot."
   ]
  },
  {
   "cell_type": "code",
   "execution_count": 47,
   "metadata": {},
   "outputs": [
    {
     "data": {
      "text/plain": [
       "<matplotlib.axes._subplots.AxesSubplot at 0x7f10482fe710>"
      ]
     },
     "execution_count": 47,
     "metadata": {},
     "output_type": "execute_result"
    },
    {
     "data": {
      "image/png": "[encoded data removed]",
      "text/plain": [
       "<Figure size 432x288 with 1 Axes>"
      ]
     },
     "metadata": {},
     "output_type": "display_data"
    }
   ],
   "source": [
    "sns.barplot(x = 'Cluster', y = 'Num. of Docs', data = clusters_df)"
   ]
  },
  {
   "cell_type": "markdown",
   "metadata": {},
   "source": [
    "Are the documents normally distributed?"
   ]
  },
  {
   "cell_type": "code",
   "execution_count": 48,
   "metadata": {},
   "outputs": [
    {
     "data": {
      "text/plain": [
       "<matplotlib.axes._subplots.AxesSubplot at 0x7f1048140510>"
      ]
     },
     "execution_count": 48,
     "metadata": {},
     "output_type": "execute_result"
    },
    {
     "data": {
      "image/png": "[encoded data removed]",
      "text/plain": [
       "<Figure size 432x288 with 1 Axes>"
      ]
     },
     "metadata": {},
     "output_type": "display_data"
    }
   ],
   "source": [
    "sns.distplot(clusters_df['Num. of Docs'])"
   ]
  },
  {
   "cell_type": "markdown",
   "metadata": {},
   "source": [
    "### Getting the key words for each topic"
   ]
  },
  {
   "cell_type": "markdown",
   "metadata": {},
   "source": [
    "To get words for each topic, we first organize each of the features in descending order relative to how close they are to its cluster's centroid. In other words, words that are closer to the centroid go first."
   ]
  },
  {
   "cell_type": "code",
   "execution_count": 49,
   "metadata": {
    "scrolled": true
   },
   "outputs": [],
   "source": [
    "# Get cluster centroids and order the words in terms of how close\n",
    "# they are to the centroid. These words right now are just numbers (features).\n",
    "# We will later use the dictionary in the vectorizer to get the actual word.\n",
    "ordered_centroids = modelkmeans.cluster_centers_.argsort()[:, ::-1]"
   ]
  },
  {
   "cell_type": "markdown",
   "metadata": {},
   "source": [
    "Once we do that, we can use the vectorizer we used to get these features to bring them back into words. For each cluster, we can then have a list of words. Let's take out the 10 words that are closest to the cluster's centroid."
   ]
  },
  {
   "cell_type": "code",
   "execution_count": 52,
   "metadata": {},
   "outputs": [],
   "source": [
    "# For each cluster, we save details on the cluster.\n",
    "# These details will include the list of key features, that is, the words\n",
    "# that contribute most significantly to that cluster. \n",
    "key_features = []\n",
    "for cluster_num in xrange(0, clusters_df.shape[0]):\n",
    "    key_features.append([tfidf_vectorizer.get_feature_names()[index] for index in ordered_centroids[cluster_num, :10]])\n",
    "clusters_df['Key Features'] = key_features"
   ]
  },
  {
   "cell_type": "code",
   "execution_count": 53,
   "metadata": {},
   "outputs": [
    {
     "name": "stdout",
     "output_type": "stream",
     "text": [
      "democritus atom atomists report void atomist furley leucippus motion indivisible\n",
      "---\n",
      "macaulay hume law natural good moral aquinas human idea philo\n",
      "---\n",
      "woman feminist feminism liberal gender okin equity hermeneutical nussbaum continental\n",
      "---\n",
      "leibniz exoteric world substance esoteric possible adam god individual text\n",
      "---\n",
      "liberal government political montesquieu liberalism burke conservatism conservative global state\n",
      "---\n",
      "justification epistemology constructionist epistemic simplicity kornblith social parsimony goldman theory\n",
      "---\n",
      "consciousness dream conscious ryle theory state order mental content evidence\n",
      "---\n",
      "tarski logic mathematical niewski theory theorem quantifier system logical order\n",
      "---\n",
      "substance elisabeth descartes generic neutral monism property entity object thing\n",
      "---\n",
      "wolff enlightenment dilthey novalis human science fichte philosophy kant aesthetic\n",
      "---\n",
      "socrates plato dialogue name poetry cratylus rhetoric hermogenes poet homer\n",
      "---\n",
      "fictional object holmes possible actual vulcan property sentence world lewis\n",
      "---\n",
      "ayer ability transcendental realism constructive speech knowability argument theory truth\n",
      "---\n",
      "scotus conscience synderesis haecceity aquinas bonaventure numerical ordinatio fonseca ockham\n",
      "---\n",
      "pornography woman sexual feminist sex mackinnon harm prostitution pornographic speech\n",
      "---\n",
      "technology information user moral malware privacy alife online computer machine\n",
      "---\n",
      "textsf rightarrow triangleright combinators combinator colon term textrm formula theorem\n",
      "---\n",
      "future battle true trl sea tomorrow chronicle time past fatalism\n",
      "---\n",
      "art aesthetic dewey experience artwork artist conceptual everyday painting artistic\n",
      "---\n",
      "moral evolutionary adaptationism selection naturalism natural trait evolution optimality biology\n",
      "---\n",
      "right spencer utilitarianism utilitarian moral sidgwick mill utility duty holder\n",
      "---\n",
      "medigo del ibn jewish averroes hebrew maimonides arabic work avicenna\n",
      "---\n",
      "modal modi significandi scotus signify analogical boethius analogy aristotle term\n",
      "---\n",
      "anscombe combatant kill war civilian intention action moral proportionality noncombatant\n",
      "---\n",
      "hope kierkegaard bloch rorty marcel camus kant faith outcome good\n",
      "---\n",
      "mctaggart time freeze series presentism zone argument future temporal travel\n",
      "---\n",
      "arcesilaus assent stoic academica impression zeno cicero sextus argument belief\n",
      "---\n",
      "god nonbelief nicholas nonresistant schellenberg cusanus divine thing mind measure\n",
      "---\n",
      "emerson reliance self cavell perfectionism mood scholar essay boston emersonian\n",
      "---\n",
      "fanon colonial black masks africa blackness revolutionary skin white algeria\n",
      "---\n",
      "zabarella soul plutarch gland anima aristotle pineal body ventricle descartes\n",
      "---\n",
      "pyrrho timon aristocles passage sextus pyrrhonism thing ataraxia interpretation diogenes\n",
      "---\n",
      "habermas discourse communicative social theory tca chap claim political validity\n",
      "---\n",
      "authenticity health self justice rawls interest care social principle access\n",
      "---\n",
      "quantum algorithm lvert computation computational computer gate rangle turing circuit\n",
      "---\n",
      "tort liability cost corrective injury duty precaution injure justice victim\n",
      "---\n",
      "jevons logic law identity science economics use spencer laws unitarians\n",
      "---\n",
      "qing ming wang huang dao dai heaven song zhang confucian\n",
      "---\n",
      "newton motion gravity principia force orbit centripetal huygens pendulum planet\n",
      "---\n"
     ]
    }
   ],
   "source": [
    "for cluster in clusters_df['Key Features']:\n",
    "    print ' '.join(cluster)\n",
    "    print \"---\""
   ]
  }
 ],
 "metadata": {
  "kernelspec": {
   "display_name": "Python 2",
   "language": "python",
   "name": "python2"
  },
  "language_info": {
   "codemirror_mode": {
    "name": "ipython",
    "version": 2
   },
   "file_extension": ".py",
   "mimetype": "text/x-python",
   "name": "python",
   "nbconvert_exporter": "python",
   "pygments_lexer": "ipython2",
   "version": "2.7.14"
  }
 },
 "nbformat": 4,
 "nbformat_minor": 2
}
